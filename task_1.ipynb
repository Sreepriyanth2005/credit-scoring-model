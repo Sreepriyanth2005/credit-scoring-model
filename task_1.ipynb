{
 "cells": [
  {
   "cell_type": "code",
   "execution_count": 3,
   "id": "f6a44c70-7cbb-4483-82fe-7084c4b8df6f",
   "metadata": {},
   "outputs": [],
   "source": [
    "# Import necessary libraries\n",
    "import pandas as pd\n",
    "import numpy as np\n",
    "from sklearn.model_selection import train_test_split\n",
    "from sklearn.ensemble import RandomForestClassifier\n",
    "from sklearn.preprocessing import StandardScaler\n",
    "from sklearn.metrics import accuracy_score, classification_report, confusion_matrix, roc_auc_score, roc_curve\n",
    "import matplotlib.pyplot as plt\n",
    "import joblib\n"
   ]
  },
  {
   "cell_type": "code",
   "execution_count": 5,
   "id": "00168af2-9909-42fb-a985-65c8da7d373d",
   "metadata": {},
   "outputs": [
    {
     "name": "stdout",
     "output_type": "stream",
     "text": [
      "   Unnamed: 0  Age     Sex  Job Housing Saving accounts Checking account  \\\n",
      "0           0   67    male    2     own             NaN           little   \n",
      "1           1   22  female    2     own          little         moderate   \n",
      "2           2   49    male    1     own          little              NaN   \n",
      "3           3   45    male    2    free          little           little   \n",
      "4           4   53    male    2    free          little           little   \n",
      "\n",
      "   Credit amount  Duration              Purpose  \n",
      "0           1169         6             radio/TV  \n",
      "1           5951        48             radio/TV  \n",
      "2           2096        12            education  \n",
      "3           7882        42  furniture/equipment  \n",
      "4           4870        24                  car  \n",
      "<class 'pandas.core.frame.DataFrame'>\n",
      "RangeIndex: 1000 entries, 0 to 999\n",
      "Data columns (total 10 columns):\n",
      " #   Column            Non-Null Count  Dtype \n",
      "---  ------            --------------  ----- \n",
      " 0   Unnamed: 0        1000 non-null   int64 \n",
      " 1   Age               1000 non-null   int64 \n",
      " 2   Sex               1000 non-null   object\n",
      " 3   Job               1000 non-null   int64 \n",
      " 4   Housing           1000 non-null   object\n",
      " 5   Saving accounts   817 non-null    object\n",
      " 6   Checking account  606 non-null    object\n",
      " 7   Credit amount     1000 non-null   int64 \n",
      " 8   Duration          1000 non-null   int64 \n",
      " 9   Purpose           1000 non-null   object\n",
      "dtypes: int64(5), object(5)\n",
      "memory usage: 78.3+ KB\n",
      "None\n"
     ]
    }
   ],
   "source": [
    "# Load the dataset\n",
    "file_path = 'german_credit_data.csv'  # Replace with the correct file path\n",
    "data = pd.read_csv(file_path)\n",
    "\n",
    "# Inspect the dataset\n",
    "print(data.head())\n",
    "print(data.info())\n"
   ]
  },
  {
   "cell_type": "code",
   "execution_count": 7,
   "id": "993c54e3-22dc-4109-ac08-5601709d7f4f",
   "metadata": {},
   "outputs": [
    {
     "name": "stdout",
     "output_type": "stream",
     "text": [
      "   Age  Job  Credit amount  Duration  Sex_male  Housing_own  Housing_rent  \\\n",
      "0   67    2           1169         6      True         True         False   \n",
      "1   22    2           5951        48     False         True         False   \n",
      "2   49    1           2096        12      True         True         False   \n",
      "3   45    2           7882        42      True        False         False   \n",
      "4   53    2           4870        24      True        False         False   \n",
      "\n",
      "   Saving accounts_moderate  Saving accounts_quite rich  Saving accounts_rich  \\\n",
      "0                     False                       False                 False   \n",
      "1                     False                       False                 False   \n",
      "2                     False                       False                 False   \n",
      "3                     False                       False                 False   \n",
      "4                     False                       False                 False   \n",
      "\n",
      "   ...  Checking account_moderate  Checking account_rich  \\\n",
      "0  ...                      False                  False   \n",
      "1  ...                       True                  False   \n",
      "2  ...                      False                  False   \n",
      "3  ...                      False                  False   \n",
      "4  ...                      False                  False   \n",
      "\n",
      "   Checking account_unknown  Purpose_car  Purpose_domestic appliances  \\\n",
      "0                     False        False                        False   \n",
      "1                     False        False                        False   \n",
      "2                      True        False                        False   \n",
      "3                     False        False                        False   \n",
      "4                     False         True                        False   \n",
      "\n",
      "   Purpose_education  Purpose_furniture/equipment  Purpose_radio/TV  \\\n",
      "0              False                        False              True   \n",
      "1              False                        False              True   \n",
      "2               True                        False             False   \n",
      "3              False                         True             False   \n",
      "4              False                        False             False   \n",
      "\n",
      "   Purpose_repairs  Purpose_vacation/others  \n",
      "0            False                    False  \n",
      "1            False                    False  \n",
      "2            False                    False  \n",
      "3            False                    False  \n",
      "4            False                    False  \n",
      "\n",
      "[5 rows x 21 columns]\n"
     ]
    },
    {
     "name": "stderr",
     "output_type": "stream",
     "text": [
      "C:\\Users\\sreep\\AppData\\Local\\Temp\\ipykernel_30448\\739778954.py:5: FutureWarning: A value is trying to be set on a copy of a DataFrame or Series through chained assignment using an inplace method.\n",
      "The behavior will change in pandas 3.0. This inplace method will never work because the intermediate object on which we are setting values always behaves as a copy.\n",
      "\n",
      "For example, when doing 'df[col].method(value, inplace=True)', try using 'df.method({col: value}, inplace=True)' or df[col] = df[col].method(value) instead, to perform the operation inplace on the original object.\n",
      "\n",
      "\n",
      "  data[\"Saving accounts\"].fillna(\"unknown\", inplace=True)\n",
      "C:\\Users\\sreep\\AppData\\Local\\Temp\\ipykernel_30448\\739778954.py:6: FutureWarning: A value is trying to be set on a copy of a DataFrame or Series through chained assignment using an inplace method.\n",
      "The behavior will change in pandas 3.0. This inplace method will never work because the intermediate object on which we are setting values always behaves as a copy.\n",
      "\n",
      "For example, when doing 'df[col].method(value, inplace=True)', try using 'df.method({col: value}, inplace=True)' or df[col] = df[col].method(value) instead, to perform the operation inplace on the original object.\n",
      "\n",
      "\n",
      "  data[\"Checking account\"].fillna(\"unknown\", inplace=True)\n"
     ]
    }
   ],
   "source": [
    "# Drop the redundant column\n",
    "data.drop(columns=[\"Unnamed: 0\"], inplace=True)\n",
    "\n",
    "# Handle missing values in 'Saving accounts' and 'Checking account'\n",
    "data[\"Saving accounts\"].fillna(\"unknown\", inplace=True)\n",
    "data[\"Checking account\"].fillna(\"unknown\", inplace=True)\n",
    "\n",
    "# One-hot encode categorical variables\n",
    "data_encoded = pd.get_dummies(\n",
    "    data,\n",
    "    columns=[\"Sex\", \"Housing\", \"Saving accounts\", \"Checking account\", \"Purpose\"],\n",
    "    drop_first=True,\n",
    ")\n",
    "\n",
    "# Inspect the processed data\n",
    "print(data_encoded.head())\n"
   ]
  },
  {
   "cell_type": "code",
   "execution_count": 9,
   "id": "51506509-311e-49ee-b227-71d885490bc7",
   "metadata": {},
   "outputs": [
    {
     "name": "stdout",
     "output_type": "stream",
     "text": [
      "Data preprocessing completed!\n"
     ]
    }
   ],
   "source": [
    "# Define features (X) and target (y)\n",
    "X = data_encoded.drop(columns=[\"Credit amount\"])  # Features\n",
    "y = (data_encoded[\"Credit amount\"] > 2000).astype(int)  # Target (1: High Credit, 0: Low Credit)\n",
    "\n",
    "# Split data into training and testing sets\n",
    "X_train, X_test, y_train, y_test = train_test_split(X, y, test_size=0.2, random_state=42)\n",
    "\n",
    "# Scale numerical features\n",
    "scaler = StandardScaler()\n",
    "X_train = scaler.fit_transform(X_train)\n",
    "X_test = scaler.transform(X_test)\n",
    "\n",
    "print(\"Data preprocessing completed!\")\n"
   ]
  },
  {
   "cell_type": "code",
   "execution_count": 11,
   "id": "98ba56ec-778c-4ac0-a282-f9bd0a4db910",
   "metadata": {},
   "outputs": [
    {
     "name": "stdout",
     "output_type": "stream",
     "text": [
      "Model training completed!\n"
     ]
    }
   ],
   "source": [
    "# Train the Random Forest Classifier\n",
    "model = RandomForestClassifier(random_state=42, n_estimators=100)\n",
    "model.fit(X_train, y_train)\n",
    "\n",
    "print(\"Model training completed!\")\n"
   ]
  },
  {
   "cell_type": "code",
   "execution_count": 13,
   "id": "e7c65f58-8987-479a-aec9-71b500fb5b4a",
   "metadata": {},
   "outputs": [
    {
     "name": "stdout",
     "output_type": "stream",
     "text": [
      "Model Accuracy: 0.775\n",
      "Classification Report:\n",
      "               precision    recall  f1-score   support\n",
      "\n",
      "           0       0.75      0.76      0.75        91\n",
      "           1       0.80      0.79      0.79       109\n",
      "\n",
      "    accuracy                           0.78       200\n",
      "   macro avg       0.77      0.77      0.77       200\n",
      "weighted avg       0.78      0.78      0.78       200\n",
      "\n",
      "Confusion Matrix:\n",
      " [[69 22]\n",
      " [23 86]]\n",
      "ROC-AUC Score: 0.8060288335517694\n"
     ]
    }
   ],
   "source": [
    "# Make predictions\n",
    "y_pred = model.predict(X_test)\n",
    "\n",
    "# Evaluate the model\n",
    "accuracy = accuracy_score(y_test, y_pred)\n",
    "print(\"Model Accuracy:\", accuracy)\n",
    "print(\"Classification Report:\\n\", classification_report(y_test, y_pred))\n",
    "\n",
    "# Confusion Matrix\n",
    "conf_matrix = confusion_matrix(y_test, y_pred)\n",
    "print(\"Confusion Matrix:\\n\", conf_matrix)\n",
    "\n",
    "# ROC-AUC\n",
    "roc_auc = roc_auc_score(y_test, model.predict_proba(X_test)[:, 1])\n",
    "print(\"ROC-AUC Score:\", roc_auc)\n"
   ]
  },
  {
   "cell_type": "code",
   "execution_count": 15,
   "id": "d8055817-5de3-4405-80b4-5ef1719ed236",
   "metadata": {},
   "outputs": [
    {
     "data": {
      "image/png": "[encoded data removed]",
      "text/plain": [
       "<Figure size 640x480 with 1 Axes>"
      ]
     },
     "metadata": {},
     "output_type": "display_data"
    }
   ],
   "source": [
    "# Plot ROC Curve\n",
    "fpr, tpr, thresholds = roc_curve(y_test, model.predict_proba(X_test)[:, 1])\n",
    "plt.plot(fpr, tpr, label=f\"ROC Curve (AUC = {roc_auc:.2f})\")\n",
    "plt.xlabel(\"False Positive Rate\")\n",
    "plt.ylabel(\"True Positive Rate\")\n",
    "plt.title(\"ROC Curve\")\n",
    "plt.legend()\n",
    "plt.show()\n"
   ]
  },
  {
   "cell_type": "code",
   "execution_count": 17,
   "id": "69eb71f0-873d-4d3e-be59-d8fb1e0019f0",
   "metadata": {},
   "outputs": [
    {
     "name": "stdout",
     "output_type": "stream",
     "text": [
      "Model saved as 'credit_scoring_model.pkl'\n"
     ]
    }
   ],
   "source": [
    "# Save the trained model\n",
    "joblib.dump(model, \"credit_scoring_model.pkl\")\n",
    "print(\"Model saved as 'credit_scoring_model.pkl'\")\n"
   ]
  },
  {
   "cell_type": "code",
   "execution_count": null,
   "id": "7f190d08-3d6e-480c-b48a-45e846668f49",
   "metadata": {},
   "outputs": [],
   "source": []
  }
 ],
 "metadata": {
  "kernelspec": {
   "display_name": "Python 3 (ipykernel)",
   "language": "python",
   "name": "python3"
  },
  "language_info": {
   "codemirror_mode": {
    "name": "ipython",
    "version": 3
   },
   "file_extension": ".py",
   "mimetype": "text/x-python",
   "name": "python",
   "nbconvert_exporter": "python",
   "pygments_lexer": "ipython3",
   "version": "3.12.4"
  }
 },
 "nbformat": 4,
 "nbformat_minor": 5
}
